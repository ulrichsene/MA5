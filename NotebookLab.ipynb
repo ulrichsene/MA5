{
 "cells": [
  {
   "cell_type": "markdown",
   "metadata": {},
   "source": [
    "MA5 Notebook Lab\n",
    "Eva Ulrichsen    "
   ]
  },
  {
   "cell_type": "markdown",
   "metadata": {},
   "source": [
    "## Task 1: Equations from Bramer Textbook"
   ]
  },
  {
   "cell_type": "markdown",
   "metadata": {},
   "source": [
    "### Appendix A of Bramer  \n",
    "$log_2$ $(a \\times b) =$ $log_2$ $a$ $+ $ $log_2$ $b$  \n",
    "$log_2$ $(a$ $/$ $b) =$ $log_2$ $a$ $- $ $log_2$ $b$  \n",
    "$log_2$ $(a^n) =$ $n \\times log_2$ $a$  \n",
    "$log_2$ $(1$ $/$ $a) =$ $-$ $log_2$ $a$  \n",
    "  \n",
    "$\\sum_{i = 1}^{i = m} \\sum_{j = 1}^{j = n}$ $a_{ij}$ $=$ $\\sum_{j = 1}^{j = n} \\sum_{i = 1}^{i = m}$ $a_{ij}$"
   ]
  },
  {
   "cell_type": "markdown",
   "metadata": {},
   "source": [
    "You can access the [Bramer](https://www.amazon.com/Principles-Mining-Undergraduate-Computer-Science/dp/1447174925) book here!"
   ]
  },
  {
   "cell_type": "markdown",
   "metadata": {},
   "source": [
    "### Task 2: Typeset the Formula for computing the mean for a sequence of numbers $a$"
   ]
  },
  {
   "cell_type": "code",
   "execution_count": 6,
   "metadata": {},
   "outputs": [],
   "source": [
    "\"\"\"\n",
    " Typeset the formula for computing the mean of a sequence of numbers\n",
    ". Use \\frac to do this.\n",
    "Follow the formula with a code cell that contains the following:\n",
    "\n",
    "    A function definition for computing the mean of a 1D list of numbers\n",
    "    Declaration of 2 lists, each with 100 random numbers\n",
    "    Calls to your mean function to calculate the mean of each list\n",
    "    Create a Matplotlib chart of your 2 lists (however you see fit)\n",
    "        Add a scatter marker for the mean\n",
    "        (BONUS - 1 pt): Label the mean point with \"mean\" and point to it \n",
    "        with an arrow. Read about matplotlib annotations to help you with this!\n",
    " \"\"\"\n",
    "import random \n",
    "\n",
    "random_list_1 = []\n",
    "random_list_2 = []\n",
    "value = 100\n",
    "\n",
    "for i in range(value): \n",
    "    random_list_1.append(random.randint(1,9))\n",
    "# print(random_list_1)\n",
    "\n",
    "for i in range(value): \n",
    "    random_list_2.append(random.randint(1,9))\n",
    "# print(random_list_2)\n",
    "\n",
    "def finding_mean_of_list(list):\n",
    "    mean = sum(list) / len(list)\n",
    "    return mean\n"
   ]
  },
  {
   "cell_type": "code",
   "execution_count": 7,
   "metadata": {},
   "outputs": [],
   "source": [
    "mean_list_1 = finding_mean_of_list(random_list_1)\n",
    "\n",
    "mean_list_2 = finding_mean_of_list(random_list_2)"
   ]
  },
  {
   "cell_type": "code",
   "execution_count": 13,
   "metadata": {},
   "outputs": [
    {
     "data": {
      "image/png": "[encoded data removed]",
      "text/plain": [
       "<Figure size 640x480 with 1 Axes>"
      ]
     },
     "metadata": {},
     "output_type": "display_data"
    }
   ],
   "source": [
    "import matplotlib.pyplot as plt\n",
    "\n",
    "sorted_list_1 = sorted(random_list_1)\n",
    "sorted_list_2 = sorted(random_list_2)\n",
    "plt.plot(sorted_list_1, sorted_list_2)\n",
    "plt.plot(mean_list_1, c=\"g\", ls=\"\", marker=\"o\",)\n",
    "plt.plot(mean_list_2, c=\"r\", ls=\"\", marker=\"o\",)\n",
    "\n",
    "plt.show()"
   ]
  }
 ],
 "metadata": {
  "kernelspec": {
   "display_name": "base",
   "language": "python",
   "name": "python3"
  },
  "language_info": {
   "codemirror_mode": {
    "name": "ipython",
    "version": 3
   },
   "file_extension": ".py",
   "mimetype": "text/x-python",
   "name": "python",
   "nbconvert_exporter": "python",
   "pygments_lexer": "ipython3",
   "version": "3.11.5"
  }
 },
 "nbformat": 4,
 "nbformat_minor": 2
}
